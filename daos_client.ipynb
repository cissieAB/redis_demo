{
 "cells": [
  {
   "cell_type": "markdown",
   "metadata": {},
   "source": [
    "## Connect to a DAOS pool"
   ]
  },
  {
   "cell_type": "markdown",
   "metadata": {},
   "source": [
    "\n",
    "### Prerequisites\n",
    "\n",
    "- Make sure the pool \"python-pool\" exists.\n",
    "\n",
    "    ```\n",
    "    $ dmg system list-pools\n",
    "    Pool        Size   State Used Imbalance Disabled\n",
    "    ----        ----   ----- ---- --------- --------\n",
    "    python-pool 3.9 TB Ready 0%   0%        0/96\n",
    "    ```\n",
    "- Create the container \"py-testcont\" in the above pool.\n",
    "    ```\n",
    "    $ daos cont create $pool_name $cont_name -t PYTHON\n",
    "    Successfully created container 01571915-f3bc-472e-ac42-c63f02ed54fd\n",
    "    Container UUID : 01571915-f3bc-472e-ac42-c63f02ed54fd\n",
    "    Container Label: py-testcont\n",
    "    Container Type : PYTHON\n",
    "    ```\n"
   ]
  },
  {
   "cell_type": "code",
   "execution_count": null,
   "metadata": {},
   "outputs": [],
   "source": [
    "# NOTE: UPDATE YOUR PATH HERE!!!\n",
    "# Manually import the DAOS python module\n",
    "# Find the pydaos module by: sudo find / -name \"*pydaos*\"\n",
    "# Usually it is at /usr/lib64/python3.6/site-packages/pydaos\n",
    "\n",
    "import sys\n",
    "sys.path.append('/usr/lib64/python3.6/site-packages')  # depend on your path\n",
    "import pydaos"
   ]
  },
  {
   "cell_type": "markdown",
   "metadata": {},
   "source": [
    "For the remaining code, please refer to: https://docs.daos.io/v2.4/user/python/#daos-dictionaries. Only the `pydaos.pydaos_core` is used. "
   ]
  },
  {
   "cell_type": "code",
   "execution_count": null,
   "metadata": {},
   "outputs": [],
   "source": [
    "POOL_NAME=\"python-pool\"\n",
    "CONT_LABEL=\"py-testcont\"\n",
    "\n",
    "# A DAOS container \n",
    "dcont = pydaos.DCont(pool=POOL_NAME, cont=CONT_LABEL)\n",
    "print(dcont)"
   ]
  },
  {
   "cell_type": "markdown",
   "metadata": {},
   "source": [
    "Start a Redis stream client."
   ]
  },
  {
   "cell_type": "code",
   "execution_count": null,
   "metadata": {},
   "outputs": [],
   "source": [
    "import redis\n",
    "\n",
    "REDIS_HOST = 'localhost'\n",
    "REDIS_PORT = 6379\n",
    "STREAM_NAME = \"ejfat\"\n",
    "\n",
    "redis_conn = redis.Redis(host=REDIS_HOST, port=REDIS_PORT)"
   ]
  },
  {
   "cell_type": "markdown",
   "metadata": {},
   "source": [
    "Create a DAOS python dictionary object."
   ]
  },
  {
   "cell_type": "code",
   "execution_count": null,
   "metadata": {},
   "outputs": [],
   "source": [
    "DDICT_NAME = \"ping-dict\"\n",
    "\n",
    "# dd = dcont.dict(DDICT_NAME, {})  # create. Can execute only once.\n",
    "dd = dcont.get(DDICT_NAME)\n",
    "len1 = len(dd)\n",
    "print(len1)\n"
   ]
  },
  {
   "cell_type": "markdown",
   "metadata": {},
   "source": [
    "Read from the Redis stream and write to the DAOS dictionary object. Remember to run `python demo_writer.py` at the same time."
   ]
  },
  {
   "cell_type": "code",
   "execution_count": null,
   "metadata": {},
   "outputs": [],
   "source": [
    "start_id = '0'  # \"$\" means only to read the new messages\n",
    "\n",
    "# Block time in milliseconds (0 means non-blocking)\n",
    "block_time = 20\n",
    "\n",
    "cnt = 0\n",
    "while cnt != 100:  # run for ~block_time * cnt ms \n",
    "    print(f\"cnt: {cnt}\")\n",
    "    # Use xread with the block option\n",
    "    response = redis_conn.xread({STREAM_NAME: start_id}, block=block_time)\n",
    "\n",
    "    # Check if there are new messages\n",
    "    if not response:\n",
    "        # No new messages within the block time\n",
    "        # print(\"No new messages within the block time.\")\n",
    "        cnt += 1\n",
    "        continue\n",
    "\n",
    "    for stream, messages in response:\n",
    "        for message in messages:\n",
    "            message_id, message_values = message\n",
    "            dd[message_id] = message_values[b'data']\n",
    "            print(f\"  message_id {message_id} of entry_id {message_values[b'entry_id']}\")  # print idx\n",
    "            # print(message_values[b'data'])\n",
    "\n",
    "            # Acknowledge the processed message\n",
    "            redis_conn.xack(STREAM_NAME, '', message_id)  # Note the empty consumer name\n",
    "\n",
    "            # Delete the processed message from the stream\n",
    "            redis_conn.xdel(STREAM_NAME, message_id)\n",
    "\n",
    "    cnt += 1\n",
    "\n",
    "# Close the Redis connection (optional)\n",
    "redis_conn.close()"
   ]
  },
  {
   "cell_type": "markdown",
   "metadata": {},
   "source": [
    "Check the DAOS dictionary object length again. The length should be different."
   ]
  },
  {
   "cell_type": "code",
   "execution_count": null,
   "metadata": {},
   "outputs": [],
   "source": [
    "print(len(dd) - len1)\n",
    "# print(dd.dump())\n",
    "\n",
    "for key in dd:\n",
    "    print(key)"
   ]
  },
  {
   "cell_type": "markdown",
   "metadata": {},
   "source": [
    "### Refs\n",
    "- https://docs.daos.io/v2.4/user/python/\n",
    "- https://github.com/daos-stack/daos/tree/release/2.4/src/client/pydaos/raw\n",
    "- https://github.com/daos-stack/daos/blob/release/2.4/src/client/pydaos/raw/daos_api.py\n"
   ]
  },
  {
   "cell_type": "markdown",
   "metadata": {},
   "source": []
  }
 ],
 "metadata": {
  "kernelspec": {
   "display_name": "daos_test",
   "language": "python",
   "name": "python3"
  },
  "language_info": {
   "codemirror_mode": {
    "name": "ipython",
    "version": 3
   },
   "file_extension": ".py",
   "mimetype": "text/x-python",
   "name": "python",
   "nbconvert_exporter": "python",
   "pygments_lexer": "ipython3",
   "version": "3.10.13"
  }
 },
 "nbformat": 4,
 "nbformat_minor": 2
}
